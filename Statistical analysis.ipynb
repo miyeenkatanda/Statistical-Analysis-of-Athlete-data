{
 "cells": [
  {
   "cell_type": "code",
   "execution_count": 25,
   "id": "acd37a5b-2f02-4070-b19e-8763bba84b61",
   "metadata": {},
   "outputs": [],
   "source": [
    "#the idea is to conduct analysis on sports health data\n",
    "#come up with an independent and dependent ttest to be used within a function\n",
    "#independent = true and dependent = false\n",
    "#compares series and labels\n",
    "#outputs t-stat, p-value and hist plot with the difference between two series or labels\n",
    "import pandas as pd\n",
    "import numpy as np\n",
    "import matplotlib.pyplot as plt\n",
    "import seaborn as sns\n",
    "import scipy.stats as ss"
   ]
  },
  {
   "cell_type": "code",
   "execution_count": 113,
   "id": "8a82f034-4958-4ece-a4c7-6112845bbb98",
   "metadata": {},
   "outputs": [
    {
     "name": "stdout",
     "output_type": "stream",
     "text": [
      "The t-statistic and p-value are : {'t_statistic': -0.12418271602305868, 'p_value': 0.901690234759414}\n"
     ]
    },
    {
     "data": {
      "image/png": "[encoded data removed]",
      "text/plain": [
       "<Figure size 640x480 with 1 Axes>"
      ]
     },
     "metadata": {},
     "output_type": "display_data"
    }
   ],
   "source": [
    "#creating a fuction to perform a ttest\n",
    "from scipy.stats import ttest_ind, ttest_rel\n",
    "\n",
    "#Parameters:series1 first dataset, series2 second dataset, type of t-test (\"independent\" or \"dependent\")\n",
    "def perform_ttest(series1, series2 , test_type=\"independent\"):\n",
    "\n",
    "    # Check the type of t-test\n",
    "    if test_type == \"independent\":\n",
    "        # Perform an independent t-test\n",
    "        t_stat, p_value = ttest_ind(series1, series2, equal_var=False)  # Unequal variance (Welch's t-test)\n",
    "    elif test_type == \"dependent\":\n",
    "        # Perform a paired t-test\n",
    "        t_stat, p_value = ttest_rel(data, data1)\n",
    "    else:\n",
    "        raise ValueError(\"Invalid test_type. Use 'independent' or 'dependent'.\")\n",
    "    \n",
    "    # Return the tstat and p-value\n",
    "    return {\"t_statistic\": t_stat, \"p_value\": p_value}\n",
    "\n",
    "\n",
    "#a function for ploting histogram for the datasets\n",
    "def plot_histograms(series1, series2, bins=10, overlay=True):\n",
    "    \n",
    "    if overlay:\n",
    "        # Plot overlayed histograms\n",
    "        plt.hist(data1, bins=bins, color='blue', alpha=0.7, label='Data 1')\n",
    "        plt.hist(data2, bins=bins, color='orange', alpha=0.7, label='Data 2')\n",
    "        plt.title('Overlayed Histograms')\n",
    "        plt.xlabel('Value')\n",
    "        plt.ylabel('Frequency')\n",
    "        plt.legend()\n",
    "        plt.show()\n",
    "    else:\n",
    "        # Plot side-by-side histograms\n",
    "        fig, axs = plt.subplots(1, 2, figsize=(10, 5), sharey=True)\n",
    "        \n",
    "        # First histogram\n",
    "        axs[0].hist(data1, bins=bins, color='blue', edgecolor='black')\n",
    "        axs[0].set_title('Data 1')\n",
    "        \n",
    "        # Second histogram\n",
    "        axs[1].hist(data2, bins=bins, color='orange', edgecolor='black')\n",
    "        axs[1].set_title('Data 2')\n",
    "        \n",
    "        # Add common labels\n",
    "        fig.suptitle('Side-by-Side Histograms')\n",
    "        axs[0].set_xlabel('Value')\n",
    "        axs[0].set_ylabel('Frequency')\n",
    "        axs[1].set_xlabel('Value')\n",
    "        \n",
    "        plt.show()\n",
    "\n",
    "#performing the ttest on random data\n",
    "np.random.seed(42)\n",
    "data = np.random.rand(25)\n",
    "data1 =np.random.rand(25)\n",
    "\n",
    "print(f\"The t-statistic and p-value are : {perform_ttest(data, data1, test_type = \"independent\")}\")\n",
    "\n",
    "# Call the function to plot\n",
    "plot_histograms(data1, data2, bins=10, overlay=True)\n",
    "\n"
   ]
  },
  {
   "cell_type": "code",
   "execution_count": null,
   "id": "83a2a752-cc21-4296-b9da-c11e633efd9d",
   "metadata": {},
   "outputs": [],
   "source": []
  },
  {
   "cell_type": "code",
   "execution_count": null,
   "id": "3e798bff-79e0-4af9-958d-1a79275bc2e5",
   "metadata": {},
   "outputs": [],
   "source": []
  }
 ],
 "metadata": {
  "kernelspec": {
   "display_name": "Python [conda env:base] *",
   "language": "python",
   "name": "conda-base-py"
  },
  "language_info": {
   "codemirror_mode": {
    "name": "ipython",
    "version": 3
   },
   "file_extension": ".py",
   "mimetype": "text/x-python",
   "name": "python",
   "nbconvert_exporter": "python",
   "pygments_lexer": "ipython3",
   "version": "3.12.7"
  }
 },
 "nbformat": 4,
 "nbformat_minor": 5
}
